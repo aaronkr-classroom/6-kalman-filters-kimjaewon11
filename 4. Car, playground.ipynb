{
 "cells": [
  {
   "cell_type": "markdown",
   "metadata": {},
   "source": [
    "# Car playground 1\n",
    "\n",
    "This notebook provides some initial variables and creates one car object, but, here, you are encouraged to play around with the car movement code!\n",
    "\n",
    "This playground is especially useful if you **modify the car.py file** and want to test out some new car property or function!\n",
    "\n",
    "So, your only tasks for this notebook are to use it as your own personal testing ground. Some ideas:\n",
    "1. Create multiple cars, with different initial states\n",
    "    - And visualize them using `display_world()`\n",
    "2. Add a function in car.py (by navigating back to it clicking the orange Jupyter icon), and then call that function, here!\n",
    "3. Add a new initial variable to __init__ in car.py and use it!\n",
    "\n",
    "# 자동차 놀이터 1\n",
    "\n",
    "이 노트북은 몇 가지 초기 변수를 제공하고 자동차 객체 하나를 생성하지만, 여기서는 자동차 이동 코드를 직접 조작해 보는 것을 권장합니다!\n",
    "\n",
    "이 놀이터는 **car.py 파일을 수정**하고 새로운 자동차 속성이나 함수를 테스트하고 싶을 때 특히 유용합니다!\n",
    "\n",
    "따라서 이 노트북의 유일한 목적은 개인적인 테스트 공간으로 활용하는 것입니다. 몇 가지 아이디어:\n",
    "1. 서로 다른 초기 상태를 가진 여러 대의 자동차를 생성합니다.\n",
    "- 그리고 `display_world()`를 사용하여 시각화합니다.\n",
    "2. car.py에 함수를 추가합니다(주황색 Jupyter 아이콘을 클릭하여 돌아가서). 그런 다음 여기서 해당 함수를 호출합니다!\n",
    "3. car.py의 __init__에 새로운 초기 변수를 추가하고 사용합니다!"
   ]
  },
  {
   "cell_type": "code",
   "execution_count": 1,
   "metadata": {},
   "outputs": [],
   "source": [
    "import numpy as np\n",
    "import Car\n",
    "\n",
    "%matplotlib inline\n",
    "\n",
    "# Auto-reload function so that this notebook keeps up with \n",
    "# changes in the class file \n",
    "%load_ext autoreload\n",
    "%autoreload 2"
   ]
  },
  {
   "cell_type": "markdown",
   "metadata": {},
   "source": [
    "### Create a new car object\n",
    "\n",
    "### 새로운 자동차 객체를 생성합니다"
   ]
  },
  {
   "cell_type": "code",
   "execution_count": 2,
   "metadata": {},
   "outputs": [
    {
     "data": {
      "image/png": "[encoded data removed]",
      "text/plain": [
       "<Figure size 720x480 with 1 Axes>"
      ]
     },
     "metadata": {},
     "output_type": "display_data"
    }
   ],
   "source": [
    "# Create a 2D world of 0's\n",
    "height = 4\n",
    "width = 6\n",
    "world = np.zeros((height, width))\n",
    "\n",
    "# Define the initial car state\n",
    "initial_position = [0, 0] # [y, x] (top-left corner)\n",
    "velocity = [0, 1] # [vy, vx] (moving to the right)\n",
    "\n",
    "# Create a car with initial params\n",
    "carla = Car.Car(initial_position, velocity, world)\n",
    "carla.display_world()"
   ]
  },
  {
   "cell_type": "code",
   "execution_count": 3,
   "metadata": {},
   "outputs": [
    {
     "data": {
      "image/png": "[encoded data removed]",
      "text/plain": [
       "<Figure size 720x480 with 1 Axes>"
      ]
     },
     "metadata": {},
     "output_type": "display_data"
    }
   ],
   "source": [
    "## TODO: Create multiple cars and visualize them\n",
    "charles = Car.Car([2,2], velocity, world, color = 'g')   # green car\n",
    "carla.display_world()\n"
   ]
  },
  {
   "cell_type": "code",
   "execution_count": 4,
   "metadata": {},
   "outputs": [
    {
     "data": {
      "image/png": "[encoded data removed]",
      "text/plain": [
       "<Figure size 720x480 with 1 Axes>"
      ]
     },
     "metadata": {},
     "output_type": "display_data"
    }
   ],
   "source": [
    "frank = Car.Car([3,5], velocity, world, color = 'b')# blue car\n",
    "frank.display_world()\n"
   ]
  },
  {
   "cell_type": "markdown",
   "metadata": {},
   "source": [
    "In this notebook, you've been given some of the starting code for creating and interacting with a car object.\n",
    "\n",
    "Your tasks are to:\n",
    "1. Become familiar with this code. \n",
    "    - Know how to create a car object, and how to move and turn that car.\n",
    "2. Constantly visualize.\n",
    "    - To make sure your code is working as expected, frequently call `display_world()` to see the result!\n",
    "3. **Make the car move in a 4x4 square path.** \n",
    "    - If you understand the move and turn functions, you should be able to tell a car to move in a square path. This task is a **TODO** at the end of this notebook.\n",
    "\n",
    "Feel free to change the values of initial variables and add functions as you see fit!\n",
    "\n",
    "And remember, to run a cell in the notebook, press `Shift+Enter`.\n",
    "\n",
    "이 노트북에서는 자동차 객체를 생성하고 상호 작용하기 위한 시작 코드 중 일부를 제공합니다.\n",
    "\n",
    "다음 과제를 수행해야 합니다.\n",
    "1. 이 코드에 익숙해지세요.\n",
    "- 자동차 객체를 생성하는 방법과 그 객체를 이동하고 회전하는 방법을 이해하세요.\n",
    "2. 지속적으로 시각화하세요.\n",
    "- 코드가 예상대로 작동하는지 확인하려면 `display_world()`를 자주 호출하여 결과를 확인하세요!\n",
    "3. **자동차를 4x4 정사각형 경로로 이동시키세요.**\n",
    "- 이동 및 회전 함수를 이해했다면 자동차를 정사각형 경로로 이동시킬 수 있을 것입니다. 이 작업은 이 노트북의 마지막 부분에 있는 **TODO**입니다.\n",
    "\n",
    "초기 변수의 값을 자유롭게 변경하고 원하는 대로 함수를 추가하세요!\n",
    "\n",
    "노트북에서 셀을 실행하려면 `Shift+Enter`를 누르세요."
   ]
  },
  {
   "cell_type": "code",
   "execution_count": 10,
   "metadata": {},
   "outputs": [],
   "source": [
    "import numpy as np\n",
    "import Car\n",
    "\n",
    "%matplotlib inline"
   ]
  },
  {
   "cell_type": "markdown",
   "metadata": {},
   "source": [
    "### Define the initial variables\n",
    "\n",
    "### 초기 변수 정의"
   ]
  },
  {
   "cell_type": "code",
   "execution_count": 11,
   "metadata": {},
   "outputs": [],
   "source": [
    "# Create a 2D world of 0's\n",
    "height = 4\n",
    "width = 6\n",
    "world = np.zeros((height, width))\n",
    "\n",
    "# Define the initial car state\n",
    "initial_position = [0, 0] # [y, x] (top-left corner)\n",
    "velocity = [0, 1] # [vy, vx] (moving to the right)\n"
   ]
  },
  {
   "cell_type": "markdown",
   "metadata": {},
   "source": [
    "### Create a car object\n",
    "\n",
    "### 자동차 객체 생성"
   ]
  },
  {
   "cell_type": "code",
   "execution_count": 12,
   "metadata": {},
   "outputs": [
    {
     "name": "stdout",
     "output_type": "stream",
     "text": [
      "Carla's initial state is: [[0, 0], [0, 1]]\n"
     ]
    }
   ],
   "source": [
    "# Create a car object with these initial params\n",
    "carla = Car.Car(initial_position, velocity, world)\n",
    "\n",
    "print('Carla\\'s initial state is: ' + str(carla.state))"
   ]
  },
  {
   "cell_type": "markdown",
   "metadata": {},
   "source": [
    "### Move and track state\n",
    "\n",
    "### 이동 및 상태 추적"
   ]
  },
  {
   "cell_type": "code",
   "execution_count": 13,
   "metadata": {},
   "outputs": [
    {
     "name": "stdout",
     "output_type": "stream",
     "text": [
      "Carla's state is: [[0, 1], [0, 1]]\n"
     ]
    },
    {
     "data": {
      "image/png": "[encoded data removed]",
      "text/plain": [
       "<Figure size 720x480 with 1 Axes>"
      ]
     },
     "metadata": {},
     "output_type": "display_data"
    }
   ],
   "source": [
    "# Move in the direction of the initial velocity\n",
    "carla.move()\n",
    "carla.move\n",
    "# Track the change in state\n",
    "print('Carla\\'s state is: ' + str(carla.state))\n",
    "\n",
    "# Display the world\n",
    "carla.display_world()"
   ]
  },
  {
   "cell_type": "code",
   "execution_count": 14,
   "metadata": {},
   "outputs": [
    {
     "data": {
      "image/png": "[encoded data removed]",
      "text/plain": [
       "<Figure size 720x480 with 1 Axes>"
      ]
     },
     "metadata": {},
     "output_type": "display_data"
    }
   ],
   "source": [
    "## TODO: Make carla traverse a 4x4 square path\n",
    "carla.reset_pos()\n",
    "\n",
    "for i in range(4):\n",
    "    for i in range(4):\n",
    "        carla.move() # Move right\n",
    "    carla.turn_left() # Turn left\n",
    "\n",
    "    \n",
    "\n",
    "\n",
    "## Display the result\n",
    "carla.display_world()"
   ]
  },
  {
   "cell_type": "markdown",
   "metadata": {},
   "source": [
    "# Turning Right\n",
    "\n",
    "This notebook provides some initial variables and creates one car object!\n",
    "\n",
    "This time around, you are expected to **modify the car.py file** and test out some new functionality!\n",
    "\n",
    "Your tasks for this notebook are:\n",
    "1. Add a `turn_right()` function to `car.py`\n",
    "    - There are a few ways to do this. I'd suggest looking at the code in `turn_left()` or even *using* this function.\n",
    "2. Don't forget to update the **state** as necessary, after a turn!\n",
    "3. Test out your `turn_right()` function in this notebook by visualizing the car as it moves, and printing out the state of the car to see if it matches what you expect!\n",
    "\n",
    "# 우회전\n",
    "\n",
    "이 노트북은 몇 가지 초기 변수를 제공하고 하나의 자동차 객체를 생성합니다!\n",
    "\n",
    "이번에는 **car.py 파일을 수정**하고 새로운 기능을 테스트해 보세요!\n",
    "\n",
    "이 노트북의 작업은 다음과 같습니다.\n",
    "1. `car.py`에 `turn_right()` 함수를 추가합니다.\n",
    "- 몇 가지 방법이 있습니다. `turn_left()`의 코드를 살펴보거나 이 함수를 *사용*하는 것이 좋습니다.\n",
    "2. 회전 후 필요에 따라 **상태**를 업데이트하는 것을 잊지 마세요!\n",
    "3. 이 노트북에서 `turn_right()` 함수를 테스트하여 자동차가 움직이는 모습을 시각화하고 자동차 상태를 출력하여 예상과 일치하는지 확인하세요!"
   ]
  },
  {
   "cell_type": "code",
   "execution_count": null,
   "metadata": {},
   "outputs": [],
   "source": [
    "import numpy as np\n",
    "import car\n",
    "\n",
    "%matplotlib inline\n",
    "\n",
    "# Auto-reload function so that this notebook keeps up with \n",
    "# changes in the class file \n",
    "%load_ext autoreload\n",
    "%autoreload 2"
   ]
  },
  {
   "cell_type": "markdown",
   "metadata": {},
   "source": [
    "### Create a new car object\n",
    "\n",
    "### 새로운 자동차 객체를 생성합니다"
   ]
  },
  {
   "cell_type": "code",
   "execution_count": null,
   "metadata": {},
   "outputs": [],
   "source": [
    "# Create a 2D world of 0's\n",
    "height = 4\n",
    "width = 6\n",
    "world = np.zeros((height, width))\n",
    "\n",
    "# Define the initial car state\n",
    "initial_position = [0, 0] # [y, x] (top-left corner)\n",
    "velocity = [0, 1] # [vy, vx] (moving to the right)\n",
    "\n",
    "# Create a car with initial params\n",
    "carla = car.Car(initial_position, velocity, world)\n"
   ]
  },
  {
   "cell_type": "markdown",
   "metadata": {},
   "source": [
    "### Directory of Python files\n",
    "\n",
    "Remember, to go back to see and change all your files, click on the orange Jupyter icon at the top left of this notebook! There you'll see this notebook and the class file `car.py`, which you'll need to open and change.\n",
    "\n",
    "I recommend opening this notebook and the car.py file in new tabs so that you can easily look at both!\n",
    "\n",
    "### Python 파일 디렉터리\n",
    "\n",
    "모든 파일을 확인하고 수정하려면 이 노트북 왼쪽 상단의 주황색 Jupyter 아이콘을 클릭하세요! 거기에 이 노트북과 클래스 파일 `car.py`가 있는데, 이 파일을 열어서 수정해야 합니다.\n",
    "\n",
    "새 탭에서 이 노트북과 car.py 파일을 열어서 두 파일을 쉽게 확인하는 것을 추천합니다!"
   ]
  },
  {
   "cell_type": "code",
   "execution_count": null,
   "metadata": {},
   "outputs": [],
   "source": [
    "## TODO: Move carla around, using your new turn_right() function\n",
    "## Display the result and the state as it changes\n",
    "\n",
    "carla.display_world()"
   ]
  },
  {
   "cell_type": "markdown",
   "metadata": {},
   "source": [
    "After you have visualized your output above, you can use the below function to check that it behaves as expected!\n",
    "\n",
    "위의 출력을 시각화한 후 아래 함수를 사용하여 예상대로 동작하는지 확인할 수 있습니다!"
   ]
  },
  {
   "cell_type": "code",
   "execution_count": null,
   "metadata": {},
   "outputs": [],
   "source": [
    "from grader import test_turn_right\n",
    "\n",
    "test_turn_right()"
   ]
  },
  {
   "cell_type": "markdown",
   "metadata": {},
   "source": [
    "# Creating colorful cars\n",
    "\n",
    "Now, the `car.py` file has been modified so that `__init__` takes in an optional color parameter!\n",
    "\n",
    "Your tasks for this notebook are:\n",
    "1. Create multiple cars of different colors\n",
    "2. Move them around and display the result\n",
    "3. (Optional) Add another variable to __init__ like maximum_speed or a boolean true or false depending on if the car has good speakers. It's up to you!\n",
    "\n",
    "Your options for color values include:\n",
    "* b: blue\n",
    "* g: green\n",
    "* r: red\n",
    "* c: cyan\n",
    "* m: magenta\n",
    "* y: yellow\n",
    "* k: black\n",
    "* w: white\n",
    "\n",
    "More color info can be found, [here](https://matplotlib.org/api/colors_api.html).\n",
    "\n",
    "# 다채로운 자동차 만들기\n",
    "\n",
    "이제 `car.py` 파일이 수정되어 `__init__`에 선택적 색상 매개변수가 추가되었습니다!\n",
    "\n",
    "이 노트북의 작업은 다음과 같습니다.\n",
    "1. 다양한 색상의 자동차 여러 대 만들기\n",
    "2. 자동차를 이동시키고 결과 표시\n",
    "3. (선택 사항) __init__에 maximum_speed와 같은 다른 변수나 자동차의 스피커 성능에 따라 true 또는 false 값을 갖는 부울 값을 추가합니다. 원하는 대로 선택하세요!\n",
    "\n",
    "색상 값 옵션은 다음과 같습니다.\n",
    "* b: 파란색\n",
    "* g: 초록색\n",
    "* r: 빨간색\n",
    "* c: 청록색\n",
    "* m: 자홍색\n",
    "* y: 노란색\n",
    "* k: 검은색\n",
    "* w: 흰색\n",
    "\n",
    "더 자세한 색상 정보는 [여기](https://matplotlib.org/api/colors_api.html)에서 확인할 수 있습니다."
   ]
  },
  {
   "cell_type": "code",
   "execution_count": null,
   "metadata": {},
   "outputs": [],
   "source": [
    "import numpy as np\n",
    "import car\n",
    "\n",
    "%matplotlib inline\n",
    "\n",
    "# Auto-reload function so that this notebook keeps up with \n",
    "# changes in the class file \n",
    "%load_ext autoreload\n",
    "%autoreload 2"
   ]
  },
  {
   "cell_type": "markdown",
   "metadata": {},
   "source": [
    "### Define some initial variables\n",
    "\n",
    "### 초기 변수 정의"
   ]
  },
  {
   "cell_type": "code",
   "execution_count": null,
   "metadata": {},
   "outputs": [],
   "source": [
    "# Create a 2D world of 0's\n",
    "height = 4\n",
    "width = 6\n",
    "world = np.zeros((height, width))\n",
    "\n",
    "# Define the initial car state\n",
    "initial_position = [0, 0] # [y, x] (top-left corner)\n",
    "velocity = [0, 1] # [vy, vx] (moving to the right)\n",
    "\n"
   ]
  },
  {
   "cell_type": "code",
   "execution_count": null,
   "metadata": {},
   "outputs": [],
   "source": [
    "## TODO: Create two cars of different colors and display their different worlds\n"
   ]
  },
  {
   "cell_type": "code",
   "execution_count": null,
   "metadata": {},
   "outputs": [],
   "source": [
    "for i in range(5):\n",
    "    bob.move()\n",
    "    \n",
    "bob.display_world()"
   ]
  },
  {
   "cell_type": "code",
   "execution_count": null,
   "metadata": {},
   "outputs": [],
   "source": [
    "for i in range(5):\n",
    "    job.move()\n",
    "    if i % 2 == 0:\n",
    "        job.turn_left()\n",
    "    else:\n",
    "        job.turn_right()\n",
    "    \n",
    "job.display_world()"
   ]
  }
 ],
 "metadata": {
  "anaconda-cloud": {},
  "kernelspec": {
   "display_name": "Python 3",
   "language": "python",
   "name": "python3"
  },
  "language_info": {
   "codemirror_mode": {
    "name": "ipython",
    "version": 3
   },
   "file_extension": ".py",
   "mimetype": "text/x-python",
   "name": "python",
   "nbconvert_exporter": "python",
   "pygments_lexer": "ipython3",
   "version": "3.11.9"
  }
 },
 "nbformat": 4,
 "nbformat_minor": 1
}
